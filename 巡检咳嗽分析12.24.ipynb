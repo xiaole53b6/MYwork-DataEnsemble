{
 "cells": [
  {
   "cell_type": "code",
   "execution_count": 4,
   "metadata": {
    "ExecuteTime": {
     "end_time": "2020-12-21T07:51:37.567849Z",
     "start_time": "2020-12-21T07:51:37.564199Z"
    },
    "code_folding": [
     0
    ]
   },
   "outputs": [
    {
     "name": "stdout",
     "output_type": "stream",
     "text": [
      "import success\n"
     ]
    }
   ],
   "source": [
    "# imports\n",
    "import sys\n",
    "import re\n",
    "from pyhive import hive\n",
    "import pandas as pd\n",
    "import seaborn as sns\n",
    "import numpy as np\n",
    "import datetime\n",
    "import requests\n",
    "import json\n",
    "import matplotlib.pyplot as plt\n",
    "import missingno as msno\n",
    "import warnings\n",
    "warnings.filterwarnings('ignore')\n",
    "sys.path.append('/data/datamining/envir/Py_functions')\n",
    "from get_data.get_data_func import * ##取数function"
   ]
  },
  {
   "cell_type": "code",
   "execution_count": 5,
   "metadata": {},
   "outputs": [],
   "source": [
    "cough = query_data(sql = 'SELECT * FROM my_dw.dwd_couth_idx_d_old')"
   ]
  },
  {
   "cell_type": "code",
   "execution_count": 7,
   "metadata": {},
   "outputs": [],
   "source": [
    "cough.to_csv('cough.csv',index = False)"
   ]
  },
  {
   "cell_type": "code",
   "execution_count": 5,
   "metadata": {
    "ExecuteTime": {
     "end_time": "2020-12-21T07:49:11.261828Z",
     "start_time": "2020-12-21T07:49:11.259183Z"
    },
    "code_folding": [
     0
    ]
   },
   "outputs": [],
   "source": [
    "# ## 提取咳嗽标签\n",
    "# cough = query_data(method ='inceptor', username = 'szhuangdancheng', password = '2020@hdc',\n",
    "#            sql = '''SELECT date(attack_date) AS `date`,batchno,ffieldid,unit_no\n",
    "#                     FROM mydw.source_my_sc_recipe AS re \n",
    "#                     INNER JOIN mydw.source_my_sc_cfq_appy_sympto neo\n",
    "#                     ON neo.my_recipeid = re.id\n",
    "#                     WHERE segmentid = 13906\n",
    "#                     AND hxd_sympto LIKE '%咳嗽%' AND batchno in ''' + str(batchlist))\n",
    "# cough['cough'] = 1\n",
    "# cough = cough.rename({'date':'time','unit_no':'unit'},axis = 1).astype({'time':'datetime64'})\n",
    "# ## 提取腹泻标签\n",
    "# diarrhea = query_data(method ='inceptor', username = 'szhuangdancheng', password = '2020@hdc',\n",
    "#            sql = '''SELECT date(attack_date) AS `date`,batchno,ffieldid,unit_no\n",
    "#                     FROM mydw.source_my_sc_recipe AS re \n",
    "#                     INNER JOIN mydw.source_my_sc_cfq_appy_sympto neo\n",
    "#                     ON neo.my_recipeid = re.id\n",
    "#                     WHERE segmentid = 13906\n",
    "#                     AND fmw_sympto LIKE '%腹泻%' AND batchno in ''' + str(batchlist))\n",
    "# diarrhea['diarrhea'] = 1\n",
    "# diarrhea = diarrhea.rename({'date':'time','unit_no':'unit'},axis = 1).astype({'time':'datetime64'})\n",
    "# ## 合成标签\n",
    "# cough['month'] = cough.time.dt.month\n",
    "# cough = cough.groupby(['ffieldid','unit','month','batchno']).sum().reset_index()\n",
    "# diarrhea['month'] = diarrhea.time.dt.month\n",
    "# diarrhea = diarrhea.groupby(['ffieldid','unit','month','batchno']).sum().reset_index()\n",
    "# cough = cough.drop(cough[cough.unit == '保育猪'].index).astype({'unit':'int'})\n",
    "# diarrhea = diarrhea.drop(diarrhea[diarrhea.unit == '保育猪'].index).astype({'unit':'int'})\n",
    "# label = cough.merge(diarrhea, on = ['ffieldid','unit','month','batchno'], how = 'outer')"
   ]
  },
  {
   "cell_type": "code",
   "execution_count": 7,
   "metadata": {
    "ExecuteTime": {
     "end_time": "2020-12-21T07:49:36.549634Z",
     "start_time": "2020-12-21T07:49:36.545966Z"
    }
   },
   "outputs": [],
   "source": [
    "## 融合保存\n",
    "# shengchan_data = step_2_data.merge(label,on = ['ffieldid','unit','batchno'] , how = 'left')\n",
    "# shengchan_data = shengchan_data.fillna(0).astype({'month':'int','cough':'int','diarrhea':'int'})\n",
    "# shengchan_data.to_csv('shengchan.csv',index = False)"
   ]
  },
  {
   "cell_type": "code",
   "execution_count": 140,
   "metadata": {
    "ExecuteTime": {
     "end_time": "2020-12-21T10:15:36.259273Z",
     "start_time": "2020-12-21T10:15:35.771320Z"
    },
    "code_folding": [
     1,
     9
    ]
   },
   "outputs": [
    {
     "name": "stdout",
     "output_type": "stream",
     "text": [
      "原始数据量: 23385\n",
      "数据清洗后: 23275\n",
      "数据清洗后: 22749\n",
      "数据清洗后: 21618\n",
      "数据清洗后: 21356\n",
      "数据清洗后: 20554\n",
      "数据清洗后: 20248\n",
      "数据清洗后: 20070\n",
      "数据清洗后: 19857\n",
      "数据清洗后: 18925\n",
      "数据清洗后: 18873\n",
      "数据清洗后: 18394\n",
      "数据清洗后: 18364\n"
     ]
    }
   ],
   "source": [
    "## 数据读取并清洗\n",
    "data = pd.read_csv('shengchan.csv').astype({'ffieldid':'str','unit':'str'})\n",
    "data.liverate = data.liverate.apply(lambda x : float(x[:-1]))\n",
    "print('原始数据量:', data.shape[0])\n",
    "def data_clean(x):\n",
    "    try:\n",
    "        if x < 0:\n",
    "            return np.nan\n",
    "        else:\n",
    "            return x\n",
    "    except:\n",
    "        return x \n",
    "def outlier(data):\n",
    "    q3 = data.quantile(0.75)\n",
    "    q1 = data.quantile(0.25)\n",
    "    upb = q3 + 1.75 * (q3 - q1)\n",
    "    lrb = q1 - 1.75 * (q3 - q1)\n",
    "    return upb,lrb    \n",
    "## drop 负值\n",
    "data = data.applymap(data_clean).dropna()\n",
    "print('数据清洗后:',data.shape[0])\n",
    "## drop 没有咳嗽和腹泻数据的厂区\n",
    "data_fid = data.groupby('ffieldid')['cough','diarrhea'].sum().reset_index()\n",
    "bad_lst = list(data_fid.loc[(data_fid.cough == 0) & (data_fid.diarrhea == 0),'ffieldid'])\n",
    "data = data.drop(data[data.ffieldid.isin(bad_lst)].index)\n",
    "print('数据清洗后:',data.shape[0])\n",
    "## drop生产成绩离群点\n",
    "coln_lst = ['ingoodqty','outqty','indayold','outdayold','staravgweight','endavgweight',\n",
    "            'liverate','seventydayweight','sixtothirtyfeedrate','dayaddweight']\n",
    "df_bounds = pd.DataFrame([])\n",
    "for coln in coln_lst:\n",
    "    df_bounds[coln] = outlier(data[coln])\n",
    "for coln in coln_lst:\n",
    "    data = data.drop((data[(data[coln] >= df_bounds[coln][0])|(data[coln] <= df_bounds[coln][1])]).index)\n",
    "    print('数据清洗后:',data.shape[0])"
   ]
  },
  {
   "cell_type": "code",
   "execution_count": 137,
   "metadata": {
    "ExecuteTime": {
     "end_time": "2020-12-21T10:15:17.675200Z",
     "start_time": "2020-12-21T10:15:17.671456Z"
    }
   },
   "outputs": [],
   "source": [
    "def classify(x):\n",
    "    if x == 0:\n",
    "        return x\n",
    "    if x > 0 and x < 5 :\n",
    "        return 1\n",
    "    if x >= 5 :\n",
    "        return 2 "
   ]
  },
  {
   "cell_type": "code",
   "execution_count": null,
   "metadata": {},
   "outputs": [],
   "source": [
    "data.groupby('month')."
   ]
  },
  {
   "cell_type": "code",
   "execution_count": 139,
   "metadata": {
    "ExecuteTime": {
     "end_time": "2020-12-21T10:15:26.847092Z",
     "start_time": "2020-12-21T10:15:26.834488Z"
    }
   },
   "outputs": [],
   "source": [
    "data.cough.apply(classify).value_counts()"
   ]
  },
  {
   "cell_type": "code",
   "execution_count": 105,
   "metadata": {
    "ExecuteTime": {
     "end_time": "2020-12-21T09:56:09.395238Z",
     "start_time": "2020-12-21T09:56:09.344779Z"
    }
   },
   "outputs": [
    {
     "data": {
      "text/html": [
       "<div>\n",
       "<style scoped>\n",
       "    .dataframe tbody tr th:only-of-type {\n",
       "        vertical-align: middle;\n",
       "    }\n",
       "\n",
       "    .dataframe tbody tr th {\n",
       "        vertical-align: top;\n",
       "    }\n",
       "\n",
       "    .dataframe thead th {\n",
       "        text-align: right;\n",
       "    }\n",
       "</style>\n",
       "<table border=\"1\" class=\"dataframe\">\n",
       "  <thead>\n",
       "    <tr style=\"text-align: right;\">\n",
       "      <th></th>\n",
       "      <th>ingoodqty</th>\n",
       "      <th>inbadqty</th>\n",
       "      <th>outqty</th>\n",
       "      <th>outbadqty</th>\n",
       "      <th>indayold</th>\n",
       "      <th>outdayold</th>\n",
       "      <th>staravgweight</th>\n",
       "      <th>endavgweight</th>\n",
       "      <th>liverate</th>\n",
       "      <th>seventydayweight</th>\n",
       "      <th>sixtothirtyfeedrate</th>\n",
       "      <th>dayaddweight</th>\n",
       "      <th>month</th>\n",
       "      <th>cough</th>\n",
       "      <th>diarrhea</th>\n",
       "    </tr>\n",
       "  </thead>\n",
       "  <tbody>\n",
       "    <tr>\n",
       "      <th>count</th>\n",
       "      <td>18364.000000</td>\n",
       "      <td>18364.000000</td>\n",
       "      <td>18364.000000</td>\n",
       "      <td>18364.000000</td>\n",
       "      <td>18364.000000</td>\n",
       "      <td>18364.000000</td>\n",
       "      <td>18364.000000</td>\n",
       "      <td>18364.000000</td>\n",
       "      <td>18364.000000</td>\n",
       "      <td>18364.000000</td>\n",
       "      <td>18364.00000</td>\n",
       "      <td>18364.000000</td>\n",
       "      <td>18364.000000</td>\n",
       "      <td>18364.000000</td>\n",
       "      <td>18364.000000</td>\n",
       "    </tr>\n",
       "    <tr>\n",
       "      <th>mean</th>\n",
       "      <td>1100.667338</td>\n",
       "      <td>1.796885</td>\n",
       "      <td>1042.496515</td>\n",
       "      <td>2.641745</td>\n",
       "      <td>24.994897</td>\n",
       "      <td>76.124825</td>\n",
       "      <td>6.665444</td>\n",
       "      <td>24.737809</td>\n",
       "      <td>94.845977</td>\n",
       "      <td>21.345113</td>\n",
       "      <td>1.70660</td>\n",
       "      <td>347.653269</td>\n",
       "      <td>5.632760</td>\n",
       "      <td>2.366151</td>\n",
       "      <td>1.122577</td>\n",
       "    </tr>\n",
       "    <tr>\n",
       "      <th>std</th>\n",
       "      <td>275.051526</td>\n",
       "      <td>8.443341</td>\n",
       "      <td>263.299623</td>\n",
       "      <td>15.258894</td>\n",
       "      <td>3.481299</td>\n",
       "      <td>10.409264</td>\n",
       "      <td>0.921075</td>\n",
       "      <td>5.373415</td>\n",
       "      <td>3.848036</td>\n",
       "      <td>3.496930</td>\n",
       "      <td>0.20362</td>\n",
       "      <td>62.421003</td>\n",
       "      <td>4.034941</td>\n",
       "      <td>3.630349</td>\n",
       "      <td>2.642045</td>\n",
       "    </tr>\n",
       "    <tr>\n",
       "      <th>min</th>\n",
       "      <td>423.000000</td>\n",
       "      <td>0.000000</td>\n",
       "      <td>358.000000</td>\n",
       "      <td>0.000000</td>\n",
       "      <td>13.970000</td>\n",
       "      <td>43.330000</td>\n",
       "      <td>3.860000</td>\n",
       "      <td>9.490000</td>\n",
       "      <td>81.830000</td>\n",
       "      <td>9.840000</td>\n",
       "      <td>1.09000</td>\n",
       "      <td>146.410000</td>\n",
       "      <td>0.000000</td>\n",
       "      <td>0.000000</td>\n",
       "      <td>0.000000</td>\n",
       "    </tr>\n",
       "    <tr>\n",
       "      <th>25%</th>\n",
       "      <td>962.000000</td>\n",
       "      <td>0.000000</td>\n",
       "      <td>905.000000</td>\n",
       "      <td>0.000000</td>\n",
       "      <td>22.490000</td>\n",
       "      <td>69.040000</td>\n",
       "      <td>6.020000</td>\n",
       "      <td>20.990000</td>\n",
       "      <td>92.930000</td>\n",
       "      <td>19.110000</td>\n",
       "      <td>1.58000</td>\n",
       "      <td>305.170000</td>\n",
       "      <td>0.000000</td>\n",
       "      <td>0.000000</td>\n",
       "      <td>0.000000</td>\n",
       "    </tr>\n",
       "    <tr>\n",
       "      <th>50%</th>\n",
       "      <td>1103.000000</td>\n",
       "      <td>0.000000</td>\n",
       "      <td>1042.000000</td>\n",
       "      <td>0.000000</td>\n",
       "      <td>24.660000</td>\n",
       "      <td>76.090000</td>\n",
       "      <td>6.560000</td>\n",
       "      <td>24.450000</td>\n",
       "      <td>95.990000</td>\n",
       "      <td>21.610000</td>\n",
       "      <td>1.70000</td>\n",
       "      <td>347.720000</td>\n",
       "      <td>8.000000</td>\n",
       "      <td>1.000000</td>\n",
       "      <td>0.000000</td>\n",
       "    </tr>\n",
       "    <tr>\n",
       "      <th>75%</th>\n",
       "      <td>1239.000000</td>\n",
       "      <td>0.000000</td>\n",
       "      <td>1182.250000</td>\n",
       "      <td>0.000000</td>\n",
       "      <td>27.090000</td>\n",
       "      <td>83.280000</td>\n",
       "      <td>7.210000</td>\n",
       "      <td>28.030000</td>\n",
       "      <td>97.740000</td>\n",
       "      <td>23.750000</td>\n",
       "      <td>1.83000</td>\n",
       "      <td>388.582500</td>\n",
       "      <td>9.000000</td>\n",
       "      <td>3.000000</td>\n",
       "      <td>1.000000</td>\n",
       "    </tr>\n",
       "    <tr>\n",
       "      <th>max</th>\n",
       "      <td>1789.000000</td>\n",
       "      <td>350.000000</td>\n",
       "      <td>1726.000000</td>\n",
       "      <td>623.000000</td>\n",
       "      <td>36.270000</td>\n",
       "      <td>110.990000</td>\n",
       "      <td>9.620000</td>\n",
       "      <td>41.840000</td>\n",
       "      <td>100.000000</td>\n",
       "      <td>32.490000</td>\n",
       "      <td>2.34000</td>\n",
       "      <td>547.410000</td>\n",
       "      <td>12.000000</td>\n",
       "      <td>85.000000</td>\n",
       "      <td>115.000000</td>\n",
       "    </tr>\n",
       "  </tbody>\n",
       "</table>\n",
       "</div>"
      ],
      "text/plain": [
       "          ingoodqty      inbadqty        outqty     outbadqty      indayold  \\\n",
       "count  18364.000000  18364.000000  18364.000000  18364.000000  18364.000000   \n",
       "mean    1100.667338      1.796885   1042.496515      2.641745     24.994897   \n",
       "std      275.051526      8.443341    263.299623     15.258894      3.481299   \n",
       "min      423.000000      0.000000    358.000000      0.000000     13.970000   \n",
       "25%      962.000000      0.000000    905.000000      0.000000     22.490000   \n",
       "50%     1103.000000      0.000000   1042.000000      0.000000     24.660000   \n",
       "75%     1239.000000      0.000000   1182.250000      0.000000     27.090000   \n",
       "max     1789.000000    350.000000   1726.000000    623.000000     36.270000   \n",
       "\n",
       "          outdayold  staravgweight  endavgweight      liverate  \\\n",
       "count  18364.000000   18364.000000  18364.000000  18364.000000   \n",
       "mean      76.124825       6.665444     24.737809     94.845977   \n",
       "std       10.409264       0.921075      5.373415      3.848036   \n",
       "min       43.330000       3.860000      9.490000     81.830000   \n",
       "25%       69.040000       6.020000     20.990000     92.930000   \n",
       "50%       76.090000       6.560000     24.450000     95.990000   \n",
       "75%       83.280000       7.210000     28.030000     97.740000   \n",
       "max      110.990000       9.620000     41.840000    100.000000   \n",
       "\n",
       "       seventydayweight  sixtothirtyfeedrate  dayaddweight         month  \\\n",
       "count      18364.000000          18364.00000  18364.000000  18364.000000   \n",
       "mean          21.345113              1.70660    347.653269      5.632760   \n",
       "std            3.496930              0.20362     62.421003      4.034941   \n",
       "min            9.840000              1.09000    146.410000      0.000000   \n",
       "25%           19.110000              1.58000    305.170000      0.000000   \n",
       "50%           21.610000              1.70000    347.720000      8.000000   \n",
       "75%           23.750000              1.83000    388.582500      9.000000   \n",
       "max           32.490000              2.34000    547.410000     12.000000   \n",
       "\n",
       "              cough      diarrhea  \n",
       "count  18364.000000  18364.000000  \n",
       "mean       2.366151      1.122577  \n",
       "std        3.630349      2.642045  \n",
       "min        0.000000      0.000000  \n",
       "25%        0.000000      0.000000  \n",
       "50%        1.000000      0.000000  \n",
       "75%        3.000000      1.000000  \n",
       "max       85.000000    115.000000  "
      ]
     },
     "execution_count": 105,
     "metadata": {},
     "output_type": "execute_result"
    }
   ],
   "source": [
    "data.describe()"
   ]
  },
  {
   "cell_type": "code",
   "execution_count": 141,
   "metadata": {
    "ExecuteTime": {
     "end_time": "2020-12-21T10:16:06.519301Z",
     "start_time": "2020-12-21T10:16:06.501932Z"
    }
   },
   "outputs": [
    {
     "data": {
      "text/html": [
       "<div>\n",
       "<style scoped>\n",
       "    .dataframe tbody tr th:only-of-type {\n",
       "        vertical-align: middle;\n",
       "    }\n",
       "\n",
       "    .dataframe tbody tr th {\n",
       "        vertical-align: top;\n",
       "    }\n",
       "\n",
       "    .dataframe thead th {\n",
       "        text-align: right;\n",
       "    }\n",
       "</style>\n",
       "<table border=\"1\" class=\"dataframe\">\n",
       "  <thead>\n",
       "    <tr style=\"text-align: right;\">\n",
       "      <th></th>\n",
       "      <th>liverate</th>\n",
       "      <th>dayaddweight</th>\n",
       "    </tr>\n",
       "    <tr>\n",
       "      <th>cough</th>\n",
       "      <th></th>\n",
       "      <th></th>\n",
       "    </tr>\n",
       "  </thead>\n",
       "  <tbody>\n",
       "    <tr>\n",
       "      <th>0</th>\n",
       "      <td>94.685197</td>\n",
       "      <td>338.469955</td>\n",
       "    </tr>\n",
       "    <tr>\n",
       "      <th>1</th>\n",
       "      <td>94.904498</td>\n",
       "      <td>355.770910</td>\n",
       "    </tr>\n",
       "    <tr>\n",
       "      <th>2</th>\n",
       "      <td>95.081136</td>\n",
       "      <td>350.330214</td>\n",
       "    </tr>\n",
       "  </tbody>\n",
       "</table>\n",
       "</div>"
      ],
      "text/plain": [
       "        liverate  dayaddweight\n",
       "cough                         \n",
       "0      94.685197    338.469955\n",
       "1      94.904498    355.770910\n",
       "2      95.081136    350.330214"
      ]
     },
     "execution_count": 141,
     "metadata": {},
     "output_type": "execute_result"
    }
   ],
   "source": [
    "data.cough = data.cough.apply(classify)\n",
    "data.groupby(['cough'])['liverate','dayaddweight'].mean()"
   ]
  },
  {
   "cell_type": "code",
   "execution_count": null,
   "metadata": {},
   "outputs": [],
   "source": []
  }
 ],
 "metadata": {
  "kernelspec": {
   "display_name": "Python 3",
   "language": "python",
   "name": "python3"
  },
  "language_info": {
   "codemirror_mode": {
    "name": "ipython",
    "version": 3
   },
   "file_extension": ".py",
   "mimetype": "text/x-python",
   "name": "python",
   "nbconvert_exporter": "python",
   "pygments_lexer": "ipython3",
   "version": "3.8.5"
  },
  "toc": {
   "base_numbering": 1,
   "nav_menu": {},
   "number_sections": true,
   "sideBar": true,
   "skip_h1_title": true,
   "title_cell": "Table of Contents",
   "title_sidebar": "Contents",
   "toc_cell": false,
   "toc_position": {},
   "toc_section_display": true,
   "toc_window_display": false
  },
  "varInspector": {
   "cols": {
    "lenName": 16,
    "lenType": 16,
    "lenVar": 40
   },
   "kernels_config": {
    "python": {
     "delete_cmd_postfix": "",
     "delete_cmd_prefix": "del ",
     "library": "var_list.py",
     "varRefreshCmd": "print(var_dic_list())"
    },
    "r": {
     "delete_cmd_postfix": ") ",
     "delete_cmd_prefix": "rm(",
     "library": "var_list.r",
     "varRefreshCmd": "cat(var_dic_list()) "
    }
   },
   "types_to_exclude": [
    "module",
    "function",
    "builtin_function_or_method",
    "instance",
    "_Feature"
   ],
   "window_display": false
  }
 },
 "nbformat": 4,
 "nbformat_minor": 4
}
